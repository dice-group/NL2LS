{
 "cells": [
  {
   "cell_type": "code",
   "execution_count": 1,
   "id": "715af19b-4dbe-45cd-9384-49456b5166ab",
   "metadata": {},
   "outputs": [
    {
     "name": "stderr",
     "output_type": "stream",
     "text": [
      "/upb/users/a/asepff/profiles/unix/cs/.local/lib/python3.9/site-packages/huggingface_hub/file_download.py:1132: FutureWarning: `resume_download` is deprecated and will be removed in version 1.0.0. Downloads always resume when possible. If you want to force a new download, use `force_download=True`.\n",
      "  warnings.warn(\n",
      "Special tokens have been added in the vocabulary, make sure the associated word embeddings are fine-tuned or trained.\n",
      "/upb/users/a/asepff/profiles/unix/cs/.local/lib/python3.9/site-packages/transformers/models/auto/auto_factory.py:468: FutureWarning: The `use_auth_token` argument is deprecated and will be removed in v5 of Transformers. Please use `token` instead.\n",
      "  warnings.warn(\n"
     ]
    },
    {
     "data": {
      "application/vnd.jupyter.widget-view+json": {
       "model_id": "1965298c109847539bf5d9a652b4d240",
       "version_major": 2,
       "version_minor": 0
      },
      "text/plain": [
       "Loading checkpoint shards:   0%|          | 0/4 [00:00<?, ?it/s]"
      ]
     },
     "metadata": {},
     "output_type": "display_data"
    },
    {
     "name": "stderr",
     "output_type": "stream",
     "text": [
      "Special tokens have been added in the vocabulary, make sure the associated word embeddings are fine-tuned or trained.\n"
     ]
    },
    {
     "data": {
      "application/vnd.jupyter.widget-view+json": {
       "model_id": "ff5f3780b001439aaeec25ad8d31687d",
       "version_major": 2,
       "version_minor": 0
      },
      "text/plain": [
       "Map:   0%|          | 0/2 [00:00<?, ? examples/s]"
      ]
     },
     "metadata": {},
     "output_type": "display_data"
    },
    {
     "data": {
      "application/vnd.jupyter.widget-view+json": {
       "model_id": "50d872f6fec246adba2809fd54d6dab6",
       "version_major": 2,
       "version_minor": 0
      },
      "text/plain": [
       "Map:   0%|          | 0/2 [00:00<?, ? examples/s]"
      ]
     },
     "metadata": {},
     "output_type": "display_data"
    }
   ],
   "source": [
    "from transformers import BitsAndBytesConfig, AutoTokenizer, TrainingArguments, AutoModelForCausalLM, pipeline\n",
    "import pandas as pd\n",
    "from datasets import Dataset \n",
    "import torch\n",
    "\n",
    "base_model_name = \"meta-llama/Meta-Llama-3-8B-Instruct\"\n",
    "\n",
    "tokenizer = AutoTokenizer.from_pretrained(base_model_name, trust_remote_code=True)\n",
    "tokenizer.pad_token = tokenizer.eos_token\n",
    "tokenizer.padding_side = \"right\"\n",
    "\n",
    "device_map = {\"\": 0}\n",
    "bnb_config = BitsAndBytesConfig(\n",
    "    load_in_4bit=True,\n",
    "    bnb_4bit_quant_type=\"nf4\",\n",
    "    bnb_4bit_compute_dtype=torch.float16,\n",
    "    bnb_4bit_use_double_quant=False\n",
    ")\n",
    "\n",
    "model = AutoModelForCausalLM.from_pretrained(  ## If it fails at this line, restart the runtime and try again.\n",
    "    base_model_name,\n",
    "    quantization_config=bnb_config,\n",
    "    device_map=device_map,\n",
    "    trust_remote_code=True,\n",
    "    use_auth_token=True,\n",
    "    low_cpu_mem_usage=True\n",
    ")\n",
    "model.config.use_cache = False\n",
    "\n",
    "# More info: https://github.com/huggingface/transformers/pull/24906\n",
    "model.config.pretraining_tp = 1\n",
    "\n",
    "def generate_answer(example):\n",
    "    \n",
    "    prompt = pipe.tokenizer.apply_chat_template(example[\"messages\"][:2],\n",
    "                                                tokenize=False,\n",
    "                                                add_generation_prompt=True)\n",
    "    terminators = [\n",
    "    pipe.tokenizer.eos_token_id,\n",
    "    pipe.tokenizer.convert_tokens_to_ids(\"<|eot_id|>\")\n",
    "]\n",
    "    \n",
    "    outputs = pipe(prompt,\n",
    "                max_new_tokens=512,\n",
    "                eos_token_id=terminators,\n",
    "                do_sample=True,\n",
    "                temperature=0.6,\n",
    "                top_k=50,\n",
    "                top_p=0.9,\n",
    "                )\n",
    "    generated_text = outputs[0]['generated_text']\n",
    "    return {\"ls\": example['0'], \"generated_text\": generated_text}\n",
    "\n",
    "def create_input_prompt(example):\n",
    "    return {\n",
    "        \"messages\": [\n",
    "            {\"role\": \"system\",\"content\": system_message},\n",
    "            {\"role\": \"user\", \"content\": example[\"1\"]},\n",
    "        ]\n",
    "    }\n",
    "\n",
    "system_message = \"\"\"\n",
    "    Translate text into Link Specification:\n",
    "    The link will be generated if the labels of the source and the target have maximum jaccard Similarity or the coordinates of the source and the target have minimum wgs84\n",
    "    \n",
    "    The output is: \n",
    "    max(jaccardSimilarity(?x/p:label, ?y/p:label)1.0, wgs84(x/p:coordinates,y/p:coordinates))\n",
    "    \n",
    "    No explanations are needed.\n",
    "    \"\"\"\n",
    "\n",
    "tokenizer = AutoTokenizer.from_pretrained(base_model_name)\n",
    "tokenizer.pad_token = tokenizer.eos_token\n",
    "tokenizer.pad_token_id =  tokenizer.eos_token_id\n",
    "    \n",
    "pipe = pipeline(\"text-generation\", model=model, tokenizer=tokenizer)\n",
    "\n",
    "# Read CSV files\n",
    "test_df = pd.read_csv(f\"../../../datasets/New-Datasets/silk-human-annotated/test.txt\", sep=\"\\t\")\n",
    "# Convert DataFrame to Dataset\n",
    "test_dataset = Dataset.from_pandas(test_df)\n",
    "test_dataset = test_dataset.map(create_input_prompt)\n",
    "# Generate answers for the dataset\n",
    "results = test_dataset.map(generate_answer, batched=False)\n",
    "\n",
    "f = open(f\"results.txt\", \"w\")\n",
    "f_ls = open(f\"ls.txt\", \"w\")\n",
    "for result in results:\n",
    "    #print(\"#############\")\n",
    "    #print(result[\"generated_text\"])\n",
    "    #print(\"########################\")\n",
    "    output = result[\"generated_text\"].split(\"\\n\")[-1]\n",
    "    f.write(f\"{output}\\n\")\n",
    "    f_ls.write(f\"{result['ls']}\\n\")\n",
    "f.close()\n",
    "f_ls.close()"
   ]
  },
  {
   "cell_type": "code",
   "execution_count": null,
   "id": "306222e7-887e-47fa-875b-99fa52f11767",
   "metadata": {},
   "outputs": [],
   "source": []
  },
  {
   "cell_type": "code",
   "execution_count": null,
   "id": "716b16fd-d040-4b2e-97eb-da527ff998cc",
   "metadata": {},
   "outputs": [],
   "source": []
  }
 ],
 "metadata": {
  "kernelspec": {
   "display_name": "llm",
   "language": "python",
   "name": "llm"
  },
  "language_info": {
   "codemirror_mode": {
    "name": "ipython",
    "version": 3
   },
   "file_extension": ".py",
   "mimetype": "text/x-python",
   "name": "python",
   "nbconvert_exporter": "python",
   "pygments_lexer": "ipython3",
   "version": "3.9.19"
  }
 },
 "nbformat": 4,
 "nbformat_minor": 5
}
